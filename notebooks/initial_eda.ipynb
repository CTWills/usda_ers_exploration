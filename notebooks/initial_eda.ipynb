{
 "cells": [
  {
   "cell_type": "code",
   "execution_count": 1,
   "metadata": {},
   "outputs": [],
   "source": [
    "import pandas as pd\n",
    "import matplotlib.pyplot as plt"
   ]
  },
  {
   "cell_type": "code",
   "execution_count": 2,
   "metadata": {},
   "outputs": [],
   "source": [
    "with_tips = pd.read_excel(\"../data/nominal_expenditures.xlsx\", index_col=0, skiprows=4)"
   ]
  },
  {
   "cell_type": "code",
   "execution_count": 5,
   "metadata": {},
   "outputs": [],
   "source": [
    "with_tips = with_tips.iloc[:-3]\n"
   ]
  },
  {
   "cell_type": "code",
   "execution_count": 8,
   "metadata": {},
   "outputs": [
    {
     "data": {
      "text/plain": [
       "Grocery stores                                               0\n",
       "Convenience stores                                           0\n",
       "Other food stores                                            0\n",
       "Warehouse clubs and supercenters                             0\n",
       "Other stores and foodservice                                 0\n",
       "Mail order and home delivery                                 0\n",
       "Direct selling by farmers, manufacturers, and wholesalers    0\n",
       "Home production and donations                                0\n",
       "Total FAH                                                    0\n",
       "Full-service restaurants                                     0\n",
       "Limited-service restaurants                                  0\n",
       "Drinking places                                              0\n",
       "Hotels and motels                                            0\n",
       "Retail stores and vending                                    0\n",
       "Recreational places                                          0\n",
       "Schools and colleges                                         0\n",
       "Other FAFH sales, NEC                                        0\n",
       "Food furnished and donated                                   0\n",
       "Total FAFH                                                   0\n",
       "Liquor stores                                                0\n",
       "Food stores                                                  0\n",
       "Other AAH sales, NEC                                         0\n",
       "Total AAH                                                    0\n",
       "Eating and drinking places                                   0\n",
       "Hotels and motels.1                                          0\n",
       "Other AAFH, NEC                                              0\n",
       "Total AAFH                                                   0\n",
       "dtype: int64"
      ]
     },
     "execution_count": 8,
     "metadata": {},
     "output_type": "execute_result"
    }
   ],
   "source": [
    "with_tips.isna().sum()"
   ]
  }
 ],
 "metadata": {
  "kernelspec": {
   "display_name": "base",
   "language": "python",
   "name": "python3"
  },
  "language_info": {
   "codemirror_mode": {
    "name": "ipython",
    "version": 3
   },
   "file_extension": ".py",
   "mimetype": "text/x-python",
   "name": "python",
   "nbconvert_exporter": "python",
   "pygments_lexer": "ipython3",
   "version": "3.11.7"
  }
 },
 "nbformat": 4,
 "nbformat_minor": 2
}
