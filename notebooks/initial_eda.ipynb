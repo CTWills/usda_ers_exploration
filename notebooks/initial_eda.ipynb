{
 "cells": [
  {
   "cell_type": "code",
   "execution_count": 3,
   "metadata": {},
   "outputs": [],
   "source": [
    "import pandas as pd\n",
    "import matplotlib.pyplot as plt"
   ]
  },
  {
   "cell_type": "code",
   "execution_count": 4,
   "metadata": {},
   "outputs": [],
   "source": [
    "with_tips = pd.read_excel(\"../data/nominal_expenditures.xlsx\", index_col=0, skiprows=4)\n",
    "without_tips = pd.read_excel(\n",
    "    \"../data/nominal_expenditures_no_taxes_tips.xlsx\", index_col=0, skiprows=4)"
   ]
  },
  {
   "cell_type": "code",
   "execution_count": 5,
   "metadata": {},
   "outputs": [],
   "source": [
    "with_tips = with_tips.iloc[:-3]\n"
   ]
  },
  {
   "cell_type": "code",
   "execution_count": 8,
   "metadata": {},
   "outputs": [
    {
     "data": {
      "text/plain": [
       "Grocery stores                                               0\n",
       "Convenience stores                                           0\n",
       "Other food stores                                            0\n",
       "Warehouse clubs and supercenters                             0\n",
       "Other stores and foodservice                                 0\n",
       "Mail order and home delivery                                 0\n",
       "Direct selling by farmers, manufacturers, and wholesalers    0\n",
       "Home production and donations                                0\n",
       "Total FAH                                                    0\n",
       "Full-service restaurants                                     0\n",
       "Limited-service restaurants                                  0\n",
       "Drinking places                                              0\n",
       "Hotels and motels                                            0\n",
       "Retail stores and vending                                    0\n",
       "Recreational places                                          0\n",
       "Schools and colleges                                         0\n",
       "Other FAFH sales, NEC                                        0\n",
       "Food furnished and donated                                   0\n",
       "Total FAFH                                                   0\n",
       "Liquor stores                                                0\n",
       "Food stores                                                  0\n",
       "Other AAH sales, NEC                                         0\n",
       "Total AAH                                                    0\n",
       "Eating and drinking places                                   0\n",
       "Hotels and motels.1                                          0\n",
       "Other AAFH, NEC                                              0\n",
       "Total AAFH                                                   0\n",
       "dtype: int64"
      ]
     },
     "execution_count": 8,
     "metadata": {},
     "output_type": "execute_result"
    }
   ],
   "source": [
    "with_tips.isna().sum()"
   ]
  },
  {
   "cell_type": "code",
   "execution_count": 10,
   "metadata": {},
   "outputs": [
    {
     "data": {
      "text/plain": [
       "(27, 27)"
      ]
     },
     "execution_count": 10,
     "metadata": {},
     "output_type": "execute_result"
    }
   ],
   "source": [
    "with_tips.shape"
   ]
  },
  {
   "cell_type": "code",
   "execution_count": 5,
   "metadata": {},
   "outputs": [
    {
     "data": {
      "text/plain": [
       "(30, 27)"
      ]
     },
     "execution_count": 5,
     "metadata": {},
     "output_type": "execute_result"
    }
   ],
   "source": [
    "without_tips.shape"
   ]
  },
  {
   "cell_type": "code",
   "execution_count": 6,
   "metadata": {},
   "outputs": [
    {
     "data": {
      "text/plain": [
       "Index(['Grocery stores', 'Convenience stores', 'Other food stores',\n",
       "       'Warehouse clubs and supercenters', 'Other stores and foodservice',\n",
       "       'Mail order and home delivery',\n",
       "       'Direct selling by farmers, manufacturers, and wholesalers',\n",
       "       'Home production and donations', 'Total FAH',\n",
       "       'Full-service restaurants', 'Limited-service restaurants',\n",
       "       'Drinking places', 'Hotels and motels', 'Retail stores and vending',\n",
       "       'Recreational places', 'Schools and colleges', 'Other FAFH sales, NEC',\n",
       "       'Food furnished and donated', 'Total FAFH', 'Liquor stores',\n",
       "       'Food stores', 'Other AAH sales, NEC', 'Total AAH',\n",
       "       'Eating and drinking places', 'Hotels and motels.1', 'Other AAFH, NEC',\n",
       "       'Total AAFH'],\n",
       "      dtype='object')"
      ]
     },
     "execution_count": 6,
     "metadata": {},
     "output_type": "execute_result"
    }
   ],
   "source": [
    "with_tips.columns"
   ]
  },
  {
   "cell_type": "code",
   "execution_count": 8,
   "metadata": {},
   "outputs": [
    {
     "data": {
      "text/html": [
       "<div>\n",
       "<style scoped>\n",
       "    .dataframe tbody tr th:only-of-type {\n",
       "        vertical-align: middle;\n",
       "    }\n",
       "\n",
       "    .dataframe tbody tr th {\n",
       "        vertical-align: top;\n",
       "    }\n",
       "\n",
       "    .dataframe thead th {\n",
       "        text-align: right;\n",
       "    }\n",
       "</style>\n",
       "<table border=\"1\" class=\"dataframe\">\n",
       "  <thead>\n",
       "    <tr style=\"text-align: right;\">\n",
       "      <th></th>\n",
       "      <th>Grocery stores</th>\n",
       "      <th>Convenience stores</th>\n",
       "      <th>Other food stores</th>\n",
       "      <th>Warehouse clubs and supercenters</th>\n",
       "      <th>Other stores and foodservice</th>\n",
       "      <th>Mail order and home delivery</th>\n",
       "      <th>Direct selling by farmers, manufacturers, and wholesalers</th>\n",
       "      <th>Home production and donations</th>\n",
       "      <th>Total FAH</th>\n",
       "      <th>Full-service restaurants</th>\n",
       "      <th>...</th>\n",
       "      <th>Food furnished and donated</th>\n",
       "      <th>Total FAFH</th>\n",
       "      <th>Liquor stores</th>\n",
       "      <th>Food stores</th>\n",
       "      <th>Other AAH sales, NEC</th>\n",
       "      <th>Total AAH</th>\n",
       "      <th>Eating and drinking places</th>\n",
       "      <th>Hotels and motels.1</th>\n",
       "      <th>Other AAFH, NEC</th>\n",
       "      <th>Total AAFH</th>\n",
       "    </tr>\n",
       "    <tr>\n",
       "      <th>Year</th>\n",
       "      <th></th>\n",
       "      <th></th>\n",
       "      <th></th>\n",
       "      <th></th>\n",
       "      <th></th>\n",
       "      <th></th>\n",
       "      <th></th>\n",
       "      <th></th>\n",
       "      <th></th>\n",
       "      <th></th>\n",
       "      <th></th>\n",
       "      <th></th>\n",
       "      <th></th>\n",
       "      <th></th>\n",
       "      <th></th>\n",
       "      <th></th>\n",
       "      <th></th>\n",
       "      <th></th>\n",
       "      <th></th>\n",
       "      <th></th>\n",
       "      <th></th>\n",
       "    </tr>\n",
       "  </thead>\n",
       "  <tbody>\n",
       "    <tr>\n",
       "      <th>1997</th>\n",
       "      <td>270956.91</td>\n",
       "      <td>9765.15</td>\n",
       "      <td>10710.83</td>\n",
       "      <td>30061.36</td>\n",
       "      <td>37863.49</td>\n",
       "      <td>11725.54</td>\n",
       "      <td>4117.0</td>\n",
       "      <td>1127.42</td>\n",
       "      <td>376327.72</td>\n",
       "      <td>120780.61</td>\n",
       "      <td>...</td>\n",
       "      <td>22909.52</td>\n",
       "      <td>336395.69</td>\n",
       "      <td>21079.92</td>\n",
       "      <td>13636.2</td>\n",
       "      <td>16293.75</td>\n",
       "      <td>51009.87</td>\n",
       "      <td>33086.04</td>\n",
       "      <td>4192.72</td>\n",
       "      <td>4134.32</td>\n",
       "      <td>41413.09</td>\n",
       "    </tr>\n",
       "  </tbody>\n",
       "</table>\n",
       "<p>1 rows × 27 columns</p>\n",
       "</div>"
      ],
      "text/plain": [
       "      Grocery stores  Convenience stores  Other food stores  \\\n",
       "Year                                                          \n",
       "1997       270956.91             9765.15           10710.83   \n",
       "\n",
       "      Warehouse clubs and supercenters  Other stores and foodservice  \\\n",
       "Year                                                                   \n",
       "1997                          30061.36                      37863.49   \n",
       "\n",
       "      Mail order and home delivery  \\\n",
       "Year                                 \n",
       "1997                      11725.54   \n",
       "\n",
       "      Direct selling by farmers, manufacturers, and wholesalers  \\\n",
       "Year                                                              \n",
       "1997                                             4117.0           \n",
       "\n",
       "      Home production and donations  Total FAH  Full-service restaurants  ...  \\\n",
       "Year                                                                      ...   \n",
       "1997                        1127.42  376327.72                 120780.61  ...   \n",
       "\n",
       "      Food furnished and donated  Total FAFH  Liquor stores  Food stores  \\\n",
       "Year                                                                       \n",
       "1997                    22909.52   336395.69       21079.92      13636.2   \n",
       "\n",
       "      Other AAH sales, NEC  Total AAH  Eating and drinking places  \\\n",
       "Year                                                                \n",
       "1997              16293.75   51009.87                    33086.04   \n",
       "\n",
       "      Hotels and motels.1  Other AAFH, NEC  Total AAFH  \n",
       "Year                                                    \n",
       "1997              4192.72          4134.32    41413.09  \n",
       "\n",
       "[1 rows x 27 columns]"
      ]
     },
     "execution_count": 8,
     "metadata": {},
     "output_type": "execute_result"
    }
   ],
   "source": [
    "with_tips.sample()"
   ]
  }
 ],
 "metadata": {
  "kernelspec": {
   "display_name": "base",
   "language": "python",
   "name": "python3"
  },
  "language_info": {
   "codemirror_mode": {
    "name": "ipython",
    "version": 3
   },
   "file_extension": ".py",
   "mimetype": "text/x-python",
   "name": "python",
   "nbconvert_exporter": "python",
   "pygments_lexer": "ipython3",
   "version": "3.11.7"
  }
 },
 "nbformat": 4,
 "nbformat_minor": 2
}
